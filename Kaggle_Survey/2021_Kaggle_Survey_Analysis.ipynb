{
 "cells": [
  {
   "cell_type": "markdown",
   "id": "c767c9d0",
   "metadata": {
    "colab_type": "text",
    "id": "view-in-github"
   },
   "source": [
    "<a href=\"https://colab.research.google.com/github/StephRoos/Kaggle_Survey/blob/main/2021_Kaggle_Survey_Analysis.ipynb\" target=\"_parent\"><img src=\"https://colab.research.google.com/assets/colab-badge.svg\" alt=\"Open In Colab\"/></a>"
   ]
  },
  {
   "cell_type": "markdown",
   "id": "106plzhV6bly",
   "metadata": {
    "id": "106plzhV6bly"
   },
   "source": [
    "# 1. Exploratory Data Analysis"
   ]
  },
  {
   "cell_type": "code",
   "execution_count": 87,
   "id": "2a534614",
   "metadata": {
    "id": "2a534614"
   },
   "outputs": [],
   "source": [
    "# import libraries\n",
    "\n",
    "import numpy as np\n",
    "import pandas as pd\n",
    "import matplotlib as mpl\n",
    "import matplotlib.pyplot as plt\n",
    "import matplotlib.ticker as mtick\n",
    "import seaborn as sns\n",
    "import warnings\n",
    "\n",
    "warnings.filterwarnings(action='ignore')\n"
   ]
  },
  {
   "cell_type": "code",
   "execution_count": 3,
   "id": "RZ-y_AaMvQe2",
   "metadata": {
    "id": "RZ-y_AaMvQe2"
   },
   "outputs": [],
   "source": [
    "df = pd.read_csv('https://raw.githubusercontent.com/StephRoos/Kaggle_Survey/main/kaggle_survey_2021_responses.csv')\n",
    "df_q = df.iloc[0, :].T\n",
    "df_a = df.iloc[1:, :]"
   ]
  },
  {
   "cell_type": "code",
   "execution_count": 4,
   "id": "aeTS16CVwMEt",
   "metadata": {
    "colab": {
     "base_uri": "https://localhost:8080/",
     "height": 438
    },
    "id": "aeTS16CVwMEt",
    "outputId": "b59a5e85-63f3-4ce5-a050-b44e8d59d220"
   },
   "outputs": [
    {
     "data": {
      "text/plain": "  Time from Start to Finish (seconds)     Q1   Q2         Q3  \\\n1                                 910  50-54  Man      India   \n2                                 784  50-54  Man  Indonesia   \n3                                 924  22-24  Man   Pakistan   \n4                                 575  45-49  Man     Mexico   \n5                                 781  45-49  Man      India   \n\n                  Q4                       Q5          Q6 Q7_Part_1 Q7_Part_2  \\\n1  Bachelor’s degree                    Other  5-10 years    Python         R   \n2    Master’s degree  Program/Project Manager   20+ years       NaN       NaN   \n3    Master’s degree        Software Engineer   1-3 years    Python       NaN   \n4    Doctoral degree       Research Scientist   20+ years    Python       NaN   \n5    Doctoral degree                    Other   < 1 years    Python       NaN   \n\n  Q7_Part_3  ... Q38_B_Part_3 Q38_B_Part_4   Q38_B_Part_5 Q38_B_Part_6  \\\n1       NaN  ...          NaN          NaN            NaN          NaN   \n2       SQL  ...          NaN          NaN            NaN          NaN   \n3       NaN  ...          NaN          NaN   TensorBoard           NaN   \n4       NaN  ...          NaN          NaN            NaN          NaN   \n5       NaN  ...          NaN          NaN            NaN          NaN   \n\n  Q38_B_Part_7 Q38_B_Part_8 Q38_B_Part_9 Q38_B_Part_10 Q38_B_Part_11  \\\n1          NaN          NaN          NaN           NaN           NaN   \n2          NaN          NaN          NaN           NaN          None   \n3          NaN          NaN          NaN           NaN           NaN   \n4          NaN          NaN          NaN           NaN          None   \n5          NaN          NaN          NaN           NaN           NaN   \n\n  Q38_B_OTHER  \n1         NaN  \n2         NaN  \n3         NaN  \n4         NaN  \n5         NaN  \n\n[5 rows x 369 columns]",
      "text/html": "<div>\n<style scoped>\n    .dataframe tbody tr th:only-of-type {\n        vertical-align: middle;\n    }\n\n    .dataframe tbody tr th {\n        vertical-align: top;\n    }\n\n    .dataframe thead th {\n        text-align: right;\n    }\n</style>\n<table border=\"1\" class=\"dataframe\">\n  <thead>\n    <tr style=\"text-align: right;\">\n      <th></th>\n      <th>Time from Start to Finish (seconds)</th>\n      <th>Q1</th>\n      <th>Q2</th>\n      <th>Q3</th>\n      <th>Q4</th>\n      <th>Q5</th>\n      <th>Q6</th>\n      <th>Q7_Part_1</th>\n      <th>Q7_Part_2</th>\n      <th>Q7_Part_3</th>\n      <th>...</th>\n      <th>Q38_B_Part_3</th>\n      <th>Q38_B_Part_4</th>\n      <th>Q38_B_Part_5</th>\n      <th>Q38_B_Part_6</th>\n      <th>Q38_B_Part_7</th>\n      <th>Q38_B_Part_8</th>\n      <th>Q38_B_Part_9</th>\n      <th>Q38_B_Part_10</th>\n      <th>Q38_B_Part_11</th>\n      <th>Q38_B_OTHER</th>\n    </tr>\n  </thead>\n  <tbody>\n    <tr>\n      <th>1</th>\n      <td>910</td>\n      <td>50-54</td>\n      <td>Man</td>\n      <td>India</td>\n      <td>Bachelor’s degree</td>\n      <td>Other</td>\n      <td>5-10 years</td>\n      <td>Python</td>\n      <td>R</td>\n      <td>NaN</td>\n      <td>...</td>\n      <td>NaN</td>\n      <td>NaN</td>\n      <td>NaN</td>\n      <td>NaN</td>\n      <td>NaN</td>\n      <td>NaN</td>\n      <td>NaN</td>\n      <td>NaN</td>\n      <td>NaN</td>\n      <td>NaN</td>\n    </tr>\n    <tr>\n      <th>2</th>\n      <td>784</td>\n      <td>50-54</td>\n      <td>Man</td>\n      <td>Indonesia</td>\n      <td>Master’s degree</td>\n      <td>Program/Project Manager</td>\n      <td>20+ years</td>\n      <td>NaN</td>\n      <td>NaN</td>\n      <td>SQL</td>\n      <td>...</td>\n      <td>NaN</td>\n      <td>NaN</td>\n      <td>NaN</td>\n      <td>NaN</td>\n      <td>NaN</td>\n      <td>NaN</td>\n      <td>NaN</td>\n      <td>NaN</td>\n      <td>None</td>\n      <td>NaN</td>\n    </tr>\n    <tr>\n      <th>3</th>\n      <td>924</td>\n      <td>22-24</td>\n      <td>Man</td>\n      <td>Pakistan</td>\n      <td>Master’s degree</td>\n      <td>Software Engineer</td>\n      <td>1-3 years</td>\n      <td>Python</td>\n      <td>NaN</td>\n      <td>NaN</td>\n      <td>...</td>\n      <td>NaN</td>\n      <td>NaN</td>\n      <td>TensorBoard</td>\n      <td>NaN</td>\n      <td>NaN</td>\n      <td>NaN</td>\n      <td>NaN</td>\n      <td>NaN</td>\n      <td>NaN</td>\n      <td>NaN</td>\n    </tr>\n    <tr>\n      <th>4</th>\n      <td>575</td>\n      <td>45-49</td>\n      <td>Man</td>\n      <td>Mexico</td>\n      <td>Doctoral degree</td>\n      <td>Research Scientist</td>\n      <td>20+ years</td>\n      <td>Python</td>\n      <td>NaN</td>\n      <td>NaN</td>\n      <td>...</td>\n      <td>NaN</td>\n      <td>NaN</td>\n      <td>NaN</td>\n      <td>NaN</td>\n      <td>NaN</td>\n      <td>NaN</td>\n      <td>NaN</td>\n      <td>NaN</td>\n      <td>None</td>\n      <td>NaN</td>\n    </tr>\n    <tr>\n      <th>5</th>\n      <td>781</td>\n      <td>45-49</td>\n      <td>Man</td>\n      <td>India</td>\n      <td>Doctoral degree</td>\n      <td>Other</td>\n      <td>&lt; 1 years</td>\n      <td>Python</td>\n      <td>NaN</td>\n      <td>NaN</td>\n      <td>...</td>\n      <td>NaN</td>\n      <td>NaN</td>\n      <td>NaN</td>\n      <td>NaN</td>\n      <td>NaN</td>\n      <td>NaN</td>\n      <td>NaN</td>\n      <td>NaN</td>\n      <td>NaN</td>\n      <td>NaN</td>\n    </tr>\n  </tbody>\n</table>\n<p>5 rows × 369 columns</p>\n</div>"
     },
     "execution_count": 4,
     "metadata": {},
     "output_type": "execute_result"
    }
   ],
   "source": [
    "df_a.head()"
   ]
  },
  {
   "cell_type": "markdown",
   "id": "DrJqAjEkxAb3",
   "metadata": {
    "id": "DrJqAjEkxAb3"
   },
   "source": [
    "## Age Distribution of Kagglers"
   ]
  },
  {
   "cell_type": "code",
   "execution_count": 5,
   "id": "5d229bb7",
   "metadata": {
    "id": "5d229bb7"
   },
   "outputs": [],
   "source": [
    "# Create a table with age distribution by gender\n",
    "\n",
    "df_age_gender = df_a[['Q1', 'Q2']].value_counts().reset_index()\n",
    "df_age_gender.columns = ['Age', 'Gender', 'Counts']\n",
    "df_age_gender = df_age_gender[df_age_gender['Gender'].isin(['Man', 'Woman'])]\n",
    "df_age_gender = pd.pivot(data=df_age_gender, index='Age', columns='Gender', values='Counts')"
   ]
  },
  {
   "cell_type": "code",
   "execution_count": 6,
   "id": "kN813DfEAIjU",
   "metadata": {
    "colab": {
     "base_uri": "https://localhost:8080/",
     "height": 426
    },
    "id": "kN813DfEAIjU",
    "outputId": "557f7080-483f-4f95-ddb1-8efe53e616ff"
   },
   "outputs": [
    {
     "data": {
      "text/plain": "Gender   Man  Woman\nAge                \n18-21   3696   1117\n22-24   3643    963\n25-29   3859    994\n30-34   2765    618\n35-39   1993    455\n40-44   1537    317\n45-49   1171    175\n50-54    811    136\n55-59    509     72\n60-69    504     35\n70+      110      8",
      "text/html": "<div>\n<style scoped>\n    .dataframe tbody tr th:only-of-type {\n        vertical-align: middle;\n    }\n\n    .dataframe tbody tr th {\n        vertical-align: top;\n    }\n\n    .dataframe thead th {\n        text-align: right;\n    }\n</style>\n<table border=\"1\" class=\"dataframe\">\n  <thead>\n    <tr style=\"text-align: right;\">\n      <th>Gender</th>\n      <th>Man</th>\n      <th>Woman</th>\n    </tr>\n    <tr>\n      <th>Age</th>\n      <th></th>\n      <th></th>\n    </tr>\n  </thead>\n  <tbody>\n    <tr>\n      <th>18-21</th>\n      <td>3696</td>\n      <td>1117</td>\n    </tr>\n    <tr>\n      <th>22-24</th>\n      <td>3643</td>\n      <td>963</td>\n    </tr>\n    <tr>\n      <th>25-29</th>\n      <td>3859</td>\n      <td>994</td>\n    </tr>\n    <tr>\n      <th>30-34</th>\n      <td>2765</td>\n      <td>618</td>\n    </tr>\n    <tr>\n      <th>35-39</th>\n      <td>1993</td>\n      <td>455</td>\n    </tr>\n    <tr>\n      <th>40-44</th>\n      <td>1537</td>\n      <td>317</td>\n    </tr>\n    <tr>\n      <th>45-49</th>\n      <td>1171</td>\n      <td>175</td>\n    </tr>\n    <tr>\n      <th>50-54</th>\n      <td>811</td>\n      <td>136</td>\n    </tr>\n    <tr>\n      <th>55-59</th>\n      <td>509</td>\n      <td>72</td>\n    </tr>\n    <tr>\n      <th>60-69</th>\n      <td>504</td>\n      <td>35</td>\n    </tr>\n    <tr>\n      <th>70+</th>\n      <td>110</td>\n      <td>8</td>\n    </tr>\n  </tbody>\n</table>\n</div>"
     },
     "execution_count": 6,
     "metadata": {},
     "output_type": "execute_result"
    }
   ],
   "source": [
    "df_age_gender"
   ]
  },
  {
   "cell_type": "code",
   "execution_count": 7,
   "id": "1gKeIu22ALf1",
   "metadata": {
    "colab": {
     "base_uri": "https://localhost:8080/",
     "height": 417
    },
    "id": "1gKeIu22ALf1",
    "outputId": "76b2ab4e-86b7-4660-e044-2fb9ae61fa70"
   },
   "outputs": [
    {
     "data": {
      "text/plain": "<Figure size 864x432 with 1 Axes>",
      "image/png": "[encoded data removed]"
     },
     "metadata": {
      "needs_background": "light"
     },
     "output_type": "display_data"
    }
   ],
   "source": [
    "# Sort by age\n",
    "data = df_age_gender.copy()\n",
    "data.sort_index(ascending=False, inplace=True)\n",
    "data['Man'] = -data['Man']\n",
    "\n",
    "# Create a Pyramid plot with Age/Gender distribution\n",
    "fig, ax = plt.subplots(1,1, figsize=(12, 6))\n",
    "custom_params = {\"axes.spines.right\": False, \"axes.spines.top\": False}\n",
    "sns.set_theme(style=\"ticks\", palette=\"Set2\", rc=custom_params)\n",
    "ax.grid(axis='y', linestyle='-', alpha=1)\n",
    "\n",
    "sns.barplot(x=data['Man'], y=data.index, color='C0', label='Man')\n",
    "sns.barplot(x=data['Woman'], y=data.index, color='C1', label='Woman')\n",
    "\n",
    "ax.set_xlabel('')\n",
    "ax.set_xticklabels(abs(ax.get_xticks().astype(int)))\n",
    "ax.set_ylabel('')\n",
    "ax.set_yticklabels(data.index)\n",
    "\n",
    "ax.grid(which='major', axis='y', zorder=0, color='#CDD0CB', lw=0.3, alpha=0.6)\n",
    "\n",
    "fig.text(0.09, 0.95, 'Age / Gender Distribution', fontsize=12, fontweight='bold')   \n",
    "\n",
    "ax.legend()\n",
    "plt.show()\n"
   ]
  },
  {
   "cell_type": "markdown",
   "id": "83f72465",
   "metadata": {
    "id": "M30AOl9tRxT5"
   },
   "source": [
    "## Kagglers around the globe"
   ]
  },
  {
   "cell_type": "code",
   "execution_count": 75,
   "id": "146665d3",
   "metadata": {},
   "outputs": [
    {
     "data": {
      "text/plain": "          Kagglers\nCountry           \nIndia         28.6\nUSA           10.2\nOther          4.9\nJapan          3.5\nChina          3.1\nBrazil         2.9\nRussia         2.9\nNigeria        2.7\nUK             2.1\nPakistan       2.0",
      "text/html": "<div>\n<style scoped>\n    .dataframe tbody tr th:only-of-type {\n        vertical-align: middle;\n    }\n\n    .dataframe tbody tr th {\n        vertical-align: top;\n    }\n\n    .dataframe thead th {\n        text-align: right;\n    }\n</style>\n<table border=\"1\" class=\"dataframe\">\n  <thead>\n    <tr style=\"text-align: right;\">\n      <th></th>\n      <th>Kagglers</th>\n    </tr>\n    <tr>\n      <th>Country</th>\n      <th></th>\n    </tr>\n  </thead>\n  <tbody>\n    <tr>\n      <th>India</th>\n      <td>28.6</td>\n    </tr>\n    <tr>\n      <th>USA</th>\n      <td>10.2</td>\n    </tr>\n    <tr>\n      <th>Other</th>\n      <td>4.9</td>\n    </tr>\n    <tr>\n      <th>Japan</th>\n      <td>3.5</td>\n    </tr>\n    <tr>\n      <th>China</th>\n      <td>3.1</td>\n    </tr>\n    <tr>\n      <th>Brazil</th>\n      <td>2.9</td>\n    </tr>\n    <tr>\n      <th>Russia</th>\n      <td>2.9</td>\n    </tr>\n    <tr>\n      <th>Nigeria</th>\n      <td>2.7</td>\n    </tr>\n    <tr>\n      <th>UK</th>\n      <td>2.1</td>\n    </tr>\n    <tr>\n      <th>Pakistan</th>\n      <td>2.0</td>\n    </tr>\n  </tbody>\n</table>\n</div>"
     },
     "execution_count": 75,
     "metadata": {},
     "output_type": "execute_result"
    }
   ],
   "source": [
    "# Create a table with number of Kagglers by country\n",
    "\n",
    "df_countries = pd.DataFrame(df_a.groupby('Q3', dropna = False).size())\n",
    "df_countries.index.name = 'Country'\n",
    "df_countries.columns = ['Kagglers']\n",
    "df_countries.sort_values(by='Kagglers', ascending=False, inplace=True)\n",
    "df_countries = np.round(df_countries / df_countries.sum() *100, 1)\n",
    "df_countries.rename(index={'United States of America': 'USA', 'United Kingdom of Great Britain and Northern Ireland':'UK'}, inplace=True)\n",
    "df_countries.head(10)"
   ]
  },
  {
   "cell_type": "code",
   "execution_count": 88,
   "outputs": [
    {
     "data": {
      "text/plain": "<Figure size 864x432 with 1 Axes>",
      "image/png": "[encoded data removed]"
     },
     "metadata": {},
     "output_type": "display_data"
    }
   ],
   "source": [
    "# Sort by age\n",
    "data = df_countries.copy()\n",
    "data = data[0:10]\n",
    "\n",
    "# Create a Pyramid plot with Age/Gender distribution\n",
    "fig, ax = plt.subplots(1,1, figsize=(12, 6))\n",
    "custom_params = {\"axes.spines.right\": False, \"axes.spines.top\": False}\n",
    "sns.set_theme(style=\"ticks\", palette=\"Set2\", rc=custom_params)\n",
    "ax.grid(axis='y', linestyle='-', alpha=1)\n",
    "\n",
    "sns.barplot(x=data['Kagglers'], y=data.index, color='C2', label='Man')\n",
    "\n",
    "ax.set_xlabel('Percentage of Kagglers')\n",
    "ax.xaxis.set_major_formatter(mtick.PercentFormatter())\n",
    "ax.set_ylabel('')\n",
    "ax.set_yticklabels(data.index)\n",
    "\n",
    "ax.grid(which='major', axis='y', zorder=0, color='#CDD0CB', lw=0.3, alpha=0.6)\n",
    "\n",
    "fig.text(0.09, 0.95, 'Top 10 Countries', fontsize=12, fontweight='bold')\n",
    "\n",
    "plt.show()"
   ],
   "metadata": {
    "collapsed": false,
    "pycharm": {
     "name": "#%%\n"
    }
   }
  },
  {
   "cell_type": "code",
   "execution_count": null,
   "outputs": [],
   "source": [],
   "metadata": {
    "collapsed": false,
    "pycharm": {
     "name": "#%%\n"
    }
   }
  }
 ],
 "metadata": {
  "colab": {
   "include_colab_link": true,
   "name": "2021_Kaggle_Survey_Analysis.ipynb",
   "provenance": []
  },
  "kernelspec": {
   "display_name": "Python 3 (ipykernel)",
   "language": "python",
   "name": "python3"
  },
  "language_info": {
   "codemirror_mode": {
    "name": "ipython",
    "version": 3
   },
   "file_extension": ".py",
   "mimetype": "text/x-python",
   "name": "python",
   "nbconvert_exporter": "python",
   "pygments_lexer": "ipython3",
   "version": "3.9.11"
  }
 },
 "nbformat": 4,
 "nbformat_minor": 5
}